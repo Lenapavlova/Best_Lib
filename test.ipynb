{
 "cells": [
  {
   "cell_type": "code",
   "execution_count": 1,
   "metadata": {},
   "outputs": [],
   "source": [
    "import Best_Lib"
   ]
  },
  {
   "cell_type": "code",
   "execution_count": 2,
   "metadata": {},
   "outputs": [
    {
     "name": "stdout",
     "output_type": "stream",
     "text": [
      "Just click: https://www.youtube.com/watch?v=dQw4w9WgXcQ\n"
     ]
    }
   ],
   "source": [
    "Best_Lib.show_link()"
   ]
  },
  {
   "cell_type": "code",
   "execution_count": 4,
   "metadata": {},
   "outputs": [
    {
     "name": "stdout",
     "output_type": "stream",
     "text": [
      "Requirement already satisfied: setuptools in c:\\users\\lenap\\appdata\\local\\programs\\python\\python311\\lib\\site-packages (65.5.0)\n",
      "Collecting twine\n",
      "  Downloading twine-5.0.0-py3-none-any.whl (37 kB)\n",
      "Collecting wheel\n",
      "  Downloading wheel-0.42.0-py3-none-any.whl (65 kB)\n",
      "                                              0.0/65.4 kB ? eta -:--:--\n",
      "     ---------------------------------------- 65.4/65.4 kB 3.7 MB/s eta 0:00:00\n",
      "Collecting pkginfo>=1.8.1 (from twine)\n",
      "  Downloading pkginfo-1.10.0-py3-none-any.whl (30 kB)\n",
      "Collecting readme-renderer>=35.0 (from twine)\n",
      "  Downloading readme_renderer-43.0-py3-none-any.whl (13 kB)\n",
      "Collecting requests>=2.20 (from twine)\n",
      "  Downloading requests-2.31.0-py3-none-any.whl (62 kB)\n",
      "                                              0.0/62.6 kB ? eta -:--:--\n",
      "     ---------------------------------------- 62.6/62.6 kB 3.3 MB/s eta 0:00:00\n",
      "Collecting requests-toolbelt!=0.9.0,>=0.8.0 (from twine)\n",
      "  Downloading requests_toolbelt-1.0.0-py2.py3-none-any.whl (54 kB)\n",
      "                                              0.0/54.5 kB ? eta -:--:--\n",
      "     ---------------------------------------- 54.5/54.5 kB 2.8 MB/s eta 0:00:00\n",
      "Collecting urllib3>=1.26.0 (from twine)\n",
      "  Downloading urllib3-2.2.1-py3-none-any.whl (121 kB)\n",
      "                                              0.0/121.1 kB ? eta -:--:--\n",
      "     -------------------------------------- 121.1/121.1 kB 6.9 MB/s eta 0:00:00\n",
      "Collecting importlib-metadata>=3.6 (from twine)\n",
      "  Downloading importlib_metadata-7.0.1-py3-none-any.whl (23 kB)\n",
      "Collecting keyring>=15.1 (from twine)\n",
      "  Downloading keyring-24.3.1-py3-none-any.whl (38 kB)\n",
      "Collecting rfc3986>=1.4.0 (from twine)\n",
      "  Downloading rfc3986-2.0.0-py2.py3-none-any.whl (31 kB)\n",
      "Collecting rich>=12.0.0 (from twine)\n",
      "  Downloading rich-13.7.1-py3-none-any.whl (240 kB)\n",
      "                                              0.0/240.7 kB ? eta -:--:--\n",
      "     -----------------                      112.6/240.7 kB 6.4 MB/s eta 0:00:01\n",
      "     -------------------------------------- 240.7/240.7 kB 3.7 MB/s eta 0:00:00\n",
      "Collecting zipp>=0.5 (from importlib-metadata>=3.6->twine)\n",
      "  Downloading zipp-3.17.0-py3-none-any.whl (7.4 kB)\n",
      "Collecting jaraco.classes (from keyring>=15.1->twine)\n",
      "  Downloading jaraco.classes-3.3.1-py3-none-any.whl (6.8 kB)\n",
      "Collecting pywin32-ctypes>=0.2.0 (from keyring>=15.1->twine)\n",
      "  Downloading pywin32_ctypes-0.2.2-py3-none-any.whl (30 kB)\n",
      "Collecting nh3>=0.2.14 (from readme-renderer>=35.0->twine)\n",
      "  Downloading nh3-0.2.15-cp37-abi3-win_amd64.whl (563 kB)\n",
      "                                              0.0/563.7 kB ? eta -:--:--\n",
      "     ------                                  92.2/563.7 kB 5.1 MB/s eta 0:00:01\n",
      "     ---------------------                  317.4/563.7 kB 3.9 MB/s eta 0:00:01\n",
      "     ---------------------                  317.4/563.7 kB 3.9 MB/s eta 0:00:01\n",
      "     -------------------------------------- 563.7/563.7 kB 3.5 MB/s eta 0:00:00\n",
      "Collecting docutils>=0.13.1 (from readme-renderer>=35.0->twine)\n",
      "  Downloading docutils-0.20.1-py3-none-any.whl (572 kB)\n",
      "                                              0.0/572.7 kB ? eta -:--:--\n",
      "     --------------                        225.3/572.7 kB 14.3 MB/s eta 0:00:01\n",
      "     -----------------------------          450.6/572.7 kB 5.6 MB/s eta 0:00:01\n",
      "     -------------------------------------  563.2/572.7 kB 4.4 MB/s eta 0:00:01\n",
      "     -------------------------------------- 572.7/572.7 kB 4.0 MB/s eta 0:00:00\n",
      "Requirement already satisfied: Pygments>=2.5.1 in c:\\users\\lenap\\appdata\\roaming\\python\\python311\\site-packages (from readme-renderer>=35.0->twine) (2.17.2)\n",
      "Collecting charset-normalizer<4,>=2 (from requests>=2.20->twine)\n",
      "  Downloading charset_normalizer-3.3.2-cp311-cp311-win_amd64.whl (99 kB)\n",
      "                                              0.0/99.9 kB ? eta -:--:--\n",
      "     ---------------------------------------- 99.9/99.9 kB 5.6 MB/s eta 0:00:00\n",
      "Collecting idna<4,>=2.5 (from requests>=2.20->twine)\n",
      "  Downloading idna-3.6-py3-none-any.whl (61 kB)\n",
      "                                              0.0/61.6 kB ? eta -:--:--\n",
      "     ---------------------------------------- 61.6/61.6 kB 3.2 MB/s eta 0:00:00\n",
      "Collecting certifi>=2017.4.17 (from requests>=2.20->twine)\n",
      "  Downloading certifi-2024.2.2-py3-none-any.whl (163 kB)\n",
      "                                              0.0/163.8 kB ? eta -:--:--\n",
      "     -------------------------------------- 163.8/163.8 kB 9.6 MB/s eta 0:00:00\n",
      "Collecting markdown-it-py>=2.2.0 (from rich>=12.0.0->twine)\n",
      "  Downloading markdown_it_py-3.0.0-py3-none-any.whl (87 kB)\n",
      "                                              0.0/87.5 kB ? eta -:--:--\n",
      "     ---------------------------------------- 87.5/87.5 kB ? eta 0:00:00\n",
      "Collecting mdurl~=0.1 (from markdown-it-py>=2.2.0->rich>=12.0.0->twine)\n",
      "  Downloading mdurl-0.1.2-py3-none-any.whl (10.0 kB)\n",
      "Collecting more-itertools (from jaraco.classes->keyring>=15.1->twine)\n",
      "  Downloading more_itertools-10.2.0-py3-none-any.whl (57 kB)\n",
      "                                              0.0/57.0 kB ? eta -:--:--\n",
      "     ---------------------------------------- 57.0/57.0 kB 2.9 MB/s eta 0:00:00\n",
      "Installing collected packages: nh3, zipp, wheel, urllib3, rfc3986, pywin32-ctypes, pkginfo, more-itertools, mdurl, idna, docutils, charset-normalizer, certifi, requests, readme-renderer, markdown-it-py, jaraco.classes, importlib-metadata, rich, requests-toolbelt, keyring, twine\n",
      "Successfully installed certifi-2024.2.2 charset-normalizer-3.3.2 docutils-0.20.1 idna-3.6 importlib-metadata-7.0.1 jaraco.classes-3.3.1 keyring-24.3.1 markdown-it-py-3.0.0 mdurl-0.1.2 more-itertools-10.2.0 nh3-0.2.15 pkginfo-1.10.0 pywin32-ctypes-0.2.2 readme-renderer-43.0 requests-2.31.0 requests-toolbelt-1.0.0 rfc3986-2.0.0 rich-13.7.1 twine-5.0.0 urllib3-2.2.1 wheel-0.42.0 zipp-3.17.0\n"
     ]
    },
    {
     "name": "stderr",
     "output_type": "stream",
     "text": [
      "\n",
      "[notice] A new release of pip is available: 23.1.2 -> 24.0\n",
      "[notice] To update, run: python.exe -m pip install --upgrade pip\n"
     ]
    }
   ],
   "source": [
    "!pip install setuptools twine wheel "
   ]
  }
 ],
 "metadata": {
  "kernelspec": {
   "display_name": "Python 3",
   "language": "python",
   "name": "python3"
  },
  "language_info": {
   "codemirror_mode": {
    "name": "ipython",
    "version": 3
   },
   "file_extension": ".py",
   "mimetype": "text/x-python",
   "name": "python",
   "nbconvert_exporter": "python",
   "pygments_lexer": "ipython3",
   "version": "3.11.4"
  }
 },
 "nbformat": 4,
 "nbformat_minor": 2
}
